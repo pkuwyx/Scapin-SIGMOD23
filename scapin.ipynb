{
 "cells": [
  {
   "cell_type": "code",
   "execution_count": 1,
   "metadata": {
    "collapsed": true
   },
   "outputs": [],
   "source": [
    "from deeprobust.graph.data import Dataset\n",
    "from scapin import Scapin\n",
    "import numpy as np\n",
    "import torch\n",
    "import argparse\n",
    "import utils\n",
    "\n",
    "seed = 0\n",
    "device = \"cuda:0\"\n",
    "th = 0.07\n",
    "ptb_rate = 0.03\n",
    "method = \"LPA\"\n",
    "\n",
    "np.random.seed(seed)\n",
    "torch.manual_seed(seed)\n",
    "if device != 'cpu':\n",
    "    torch.cuda.manual_seed(seed)"
   ]
  },
  {
   "cell_type": "code",
   "execution_count": 2,
   "outputs": [],
   "source": [
    "adj, features, labels = utils.load_npz_to_sparse_graph(f\"ms_dataset/ms_academic_cs.npz\")\n",
    "features = np.asarray(features.todense())\n",
    "num_nodes = len(labels)\n",
    "\n",
    "train_idx, valid_idx, test_idx = utils.get_train_val_test(num_nodes, val_size=0.1, test_size=0.8, stratify=labels,\n",
    "                                                          seed=seed)\n",
    "\n",
    "split_idx = {\n",
    "    \"train\": train_idx,\n",
    "    \"valid\": valid_idx,\n",
    "    \"test\": test_idx\n",
    "}"
   ],
   "metadata": {
    "collapsed": false
   }
  },
  {
   "cell_type": "code",
   "execution_count": 3,
   "outputs": [
    {
     "name": "stdout",
     "output_type": "stream",
     "text": [
      "original acc: 0.8601622581481934\n"
     ]
    }
   ],
   "source": [
    "res = Scapin.evaluate(adj=adj, features=features, labels=labels, split_idx=split_idx, seed=seed,\n",
    "                      device=device, method=method)\n",
    "\n",
    "print(f\"original acc: {res}\")"
   ],
   "metadata": {
    "collapsed": false
   }
  },
  {
   "cell_type": "code",
   "execution_count": 4,
   "outputs": [],
   "source": [
    "perturbed_adj = Scapin.generate(adj=adj, features=features, labels=labels, split_idx=split_idx,\n",
    "                                ptb_rate=ptb_rate, device=\"cuda:0\", th=th, seed=seed)"
   ],
   "metadata": {
    "collapsed": false
   }
  },
  {
   "cell_type": "code",
   "execution_count": 5,
   "outputs": [
    {
     "name": "stdout",
     "output_type": "stream",
     "text": [
      "perturbed acc: 0.7765732407569885\n"
     ]
    }
   ],
   "source": [
    "perturbed_res = Scapin.evaluate(adj=perturbed_adj, features=features, labels=labels, split_idx=split_idx,\n",
    "                                seed=seed, device=device, method=method)\n",
    "\n",
    "print(f\"perturbed acc: {perturbed_res}\")"
   ],
   "metadata": {
    "collapsed": false
   }
  }
 ],
 "metadata": {
  "kernelspec": {
   "display_name": "Python 3",
   "language": "python",
   "name": "python3"
  },
  "language_info": {
   "codemirror_mode": {
    "name": "ipython",
    "version": 2
   },
   "file_extension": ".py",
   "mimetype": "text/x-python",
   "name": "python",
   "nbconvert_exporter": "python",
   "pygments_lexer": "ipython2",
   "version": "2.7.6"
  }
 },
 "nbformat": 4,
 "nbformat_minor": 0
}
