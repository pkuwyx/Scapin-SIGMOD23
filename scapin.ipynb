{
 "cells": [
  {
   "cell_type": "code",
   "execution_count": 1,
   "metadata": {
    "collapsed": true
   },
   "outputs": [
    {
     "name": "stdout",
     "output_type": "stream",
     "text": [
      "Loading citeseer dataset...\n",
      "Selecting 1 largest connected components\n"
     ]
    }
   ],
   "source": [
    "from deeprobust.graph.data import Dataset\n",
    "from scapin import Scapin\n",
    "import numpy as np\n",
    "import torch\n",
    "import argparse\n",
    "import utils\n",
    "\n",
    "\n",
    "parser = argparse.ArgumentParser()\n",
    "parser.add_argument(\"--seed\", default=0, type=int)\n",
    "parser.add_argument(\"--device\", default=\"cuda:0\")\n",
    "parser.add_argument(\"--dataset\", default=\"citeseer\")\n",
    "\n",
    "args, unknown = parser.parse_known_args()\n",
    "\n",
    "np.random.seed(args.seed)\n",
    "torch.manual_seed(args.seed)\n",
    "if args.device != 'cpu':\n",
    "    torch.cuda.manual_seed(args.seed)\n",
    "\n",
    "data = Dataset(root='/tmp/', name=args.dataset, setting='nettack')\n",
    "\n",
    "worker = Scapin(adj=data.adj, features=np.asarray(data.features.todense()), labels=data.labels,\n",
    "                split_idx={\"train\": data.idx_train,\n",
    "                           \"valid\": data.idx_val,\n",
    "                           \"test\": data.idx_test},\n",
    "                _ptb_rate=0.05, _device=\"cuda:0\", _th=0.085)\n",
    "\n",
    "adj_res = worker.attack()"
   ]
  },
  {
   "cell_type": "code",
   "execution_count": 2,
   "outputs": [
    {
     "name": "stdout",
     "output_type": "stream",
     "text": [
      "clean:\n",
      "Test set results: loss= 1.2378 accuracy= 0.7115\n"
     ]
    },
    {
     "data": {
      "text/plain": "0.7114928909952607"
     },
     "execution_count": 2,
     "metadata": {},
     "output_type": "execute_result"
    }
   ],
   "source": [
    "print(\"clean:\")\n",
    "utils.test(utils.sparse_mx_to_torch_sparse_tensor(data.adj), worker.features_torch,\n",
    "     worker.labels_torch, worker.train_idx, worker.valid_idx, worker.test_idx, args.device)"
   ],
   "metadata": {
    "collapsed": false
   }
  },
  {
   "cell_type": "code",
   "execution_count": 3,
   "outputs": [
    {
     "name": "stdout",
     "output_type": "stream",
     "text": [
      "scapin:\n",
      "Test set results: loss= 1.4977 accuracy= 0.6114\n"
     ]
    },
    {
     "data": {
      "text/plain": "0.6113744075829384"
     },
     "execution_count": 3,
     "metadata": {},
     "output_type": "execute_result"
    }
   ],
   "source": [
    "print(\"scapin:\")\n",
    "utils.test(utils.sparse_mx_to_torch_sparse_tensor(adj_res), worker.features_torch,\n",
    "     worker.labels_torch, worker.train_idx, worker.valid_idx, worker.test_idx, args.device)"
   ],
   "metadata": {
    "collapsed": false
   }
  },
  {
   "cell_type": "code",
   "execution_count": 3,
   "outputs": [],
   "source": [],
   "metadata": {
    "collapsed": false
   }
  }
 ],
 "metadata": {
  "kernelspec": {
   "display_name": "Python 3",
   "language": "python",
   "name": "python3"
  },
  "language_info": {
   "codemirror_mode": {
    "name": "ipython",
    "version": 2
   },
   "file_extension": ".py",
   "mimetype": "text/x-python",
   "name": "python",
   "nbconvert_exporter": "python",
   "pygments_lexer": "ipython2",
   "version": "2.7.6"
  }
 },
 "nbformat": 4,
 "nbformat_minor": 0
}
