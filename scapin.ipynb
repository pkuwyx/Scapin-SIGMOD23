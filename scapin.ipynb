{
 "cells": [
  {
   "cell_type": "code",
   "execution_count": 1,
   "metadata": {
    "collapsed": true
   },
   "outputs": [],
   "source": [
    "from deeprobust.graph.data import Dataset\n",
    "from scapin import Scapin\n",
    "import numpy as np\n",
    "import torch\n",
    "import argparse\n",
    "import utils\n",
    "\n",
    "seed = 0\n",
    "device = \"cuda:0\"\n",
    "th = 0.07\n",
    "ptb_rate = 0.03\n",
    "model = \"LPA\"\n",
    "\n",
    "np.random.seed(seed)\n",
    "torch.manual_seed(seed)\n",
    "if device != 'cpu':\n",
    "    torch.cuda.manual_seed(seed)"
   ]
  },
  {
   "cell_type": "code",
   "execution_count": 2,
   "metadata": {
    "collapsed": false
   },
   "outputs": [],
   "source": [
    "adj, features, labels = utils.load_npz_to_sparse_graph(f\"ms_dataset/ms_academic_cs.npz\")\n",
    "features = np.asarray(features.todense())\n",
    "num_nodes = len(labels)\n",
    "\n",
    "train_idx, valid_idx, test_idx = utils.get_train_val_test(num_nodes, val_size=0.1, test_size=0.8, stratify=labels,\n",
    "                                                          seed=seed)\n",
    "\n",
    "split_idx = {\n",
    "    \"train\": train_idx,\n",
    "    \"valid\": valid_idx,\n",
    "    \"test\": test_idx\n",
    "}"
   ]
  },
  {
   "cell_type": "code",
   "execution_count": 3,
   "metadata": {
    "collapsed": false
   },
   "outputs": [
    {
     "name": "stdout",
     "output_type": "stream",
     "text": [
      "original acc: 0.8601622581481934\n"
     ]
    }
   ],
   "source": [
    "res = Scapin.evaluate(adj=adj, features=features, labels=labels, split_idx=split_idx, model=model)\n",
    "\n",
    "print(f\"original acc: {res}\")"
   ]
  },
  {
   "cell_type": "code",
   "execution_count": 4,
   "metadata": {
    "collapsed": false
   },
   "outputs": [
    {
     "data": {
      "text/plain": [
       "<18333x18333 sparse matrix of type '<class 'numpy.float32'>'\n",
       "\twith 168700 stored elements in List of Lists format>"
      ]
     },
     "execution_count": 4,
     "metadata": {},
     "output_type": "execute_result"
    }
   ],
   "source": [
    "perturbed_adj = Scapin.generate(adj=adj, split_idx=split_idx, ptb_rate=ptb_rate, th=th)\n",
    "perturbed_adj"
   ]
  },
  {
   "cell_type": "code",
   "execution_count": 5,
   "metadata": {
    "collapsed": false
   },
   "outputs": [
    {
     "name": "stdout",
     "output_type": "stream",
     "text": [
      "perturbed acc: 0.7765732407569885\n"
     ]
    }
   ],
   "source": [
    "perturbed_res = Scapin.evaluate(adj=perturbed_adj, features=features, labels=labels, split_idx=split_idx, model=model)\n",
    "\n",
    "print(f\"perturbed acc: {perturbed_res}\")"
   ]
  },
  {
   "cell_type": "code",
   "execution_count": null,
   "metadata": {
    "collapsed": false
   },
   "outputs": [],
   "source": []
  }
 ],
 "metadata": {
  "kernelspec": {
   "display_name": "Python 3",
   "language": "python",
   "name": "python3"
  },
  "language_info": {
   "codemirror_mode": {
    "name": "ipython",
    "version": 2
   },
   "file_extension": ".py",
   "mimetype": "text/x-python",
   "name": "python",
   "nbconvert_exporter": "python",
   "pygments_lexer": "ipython2",
   "version": "2.7.6"
  }
 },
 "nbformat": 4,
 "nbformat_minor": 0
}
